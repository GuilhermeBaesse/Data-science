{
 "cells": [
  {
   "cell_type": "code",
   "execution_count": null,
   "metadata": {},
   "outputs": [],
   "source": [
    "import numpy as np\n",
    "from six import StringIO\n",
    "import itertools\n",
    "import pandas as pd\n",
    "import matplotlib.pyplot as plt\n",
    "from sklearn.tree import DecisionTreeClassifier, export_graphviz\n",
    "from sklearn import preprocessing\n",
    "from sklearn.model_selection import train_test_split\n",
    "from sklearn.external.six import StringIO\n",
    "import pydotplus\n",
    "import matplotlib.image as mpimg\n",
    "from sklearn.metrics import classification_report, confusion_matrix, accuracy_score\n",
    "from IPython.display import Image \n",
    "\n",
    "# FAZENDO O DOWNLOAD DO DATASET\n",
    "\n",
    "\n",
    "# IMPORTANDO O DATASET PARA O DATAFRAME\n",
    "df = pd.read_csv('dataset_einstein.csv', delimiter=';')\n",
    "\n",
    "# MOSTRANDO AS PRIMEIRAS CINCO LINHAS\n",
    "print(df.head(5))\n",
    "\n",
    "count_row = df.shape[0]  # PEGANDO OS NÚMEROS DE REGISTROS\n",
    "count_col = df.shape[1]  # PEGANDO OS NUMEROS DE COLUNAS\n",
    "\n",
    "print(count_row)\n",
    "print(count_col)\n",
    "# REPAREM QUE HÁ MUITOS REGISTROS EM QUE HÁ DADOS FALTANDO NOS CAMPOS \n"
   ]
  },
  {
   "cell_type": "code",
   "execution_count": 11,
   "metadata": {},
   "outputs": [
    {
     "name": "stdout",
     "output_type": "stream",
     "text": [
      "Defaulting to user installation because normal site-packages is not writeable\n",
      "Requirement already satisfied: six in /usr/lib/python3/dist-packages (1.14.0)\n",
      "\u001b[33mWARNING: You are using pip version 21.3.1; however, version 22.0.4 is available.\n",
      "You should consider upgrading via the '/usr/bin/python3 -m pip install --upgrade pip' command.\u001b[0m\n",
      "Note: you may need to restart the kernel to use updated packages.\n"
     ]
    }
   ],
   "source": []
  },
  {
   "cell_type": "code",
   "execution_count": null,
   "metadata": {},
   "outputs": [],
   "source": []
  }
 ],
 "metadata": {
  "kernelspec": {
   "display_name": "Python 3",
   "language": "python",
   "name": "python3"
  },
  "language_info": {
   "codemirror_mode": {
    "name": "ipython",
    "version": 3
   },
   "file_extension": ".py",
   "mimetype": "text/x-python",
   "name": "python",
   "nbconvert_exporter": "python",
   "pygments_lexer": "ipython3",
   "version": "3.8.10"
  }
 },
 "nbformat": 4,
 "nbformat_minor": 4
}
